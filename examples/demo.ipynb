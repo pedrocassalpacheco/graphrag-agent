{
 "cells": [
  {
   "cell_type": "code",
   "execution_count": null,
   "id": "0bf5e472",
   "metadata": {},
   "outputs": [],
   "source": [
    "import os\n",
    "\n",
    "if os.path.exists('/dev/nvidia0'):\n",
    "    print(\"NVIDIA GPU detected\")\n",
    "else:\n",
    "    print(\"No NVIDIA GPU detected\")\n"
   ]
  }
 ],
 "metadata": {
  "language_info": {
   "name": "python"
  }
 },
 "nbformat": 4,
 "nbformat_minor": 5
}
