{
 "cells": [
  {
   "cell_type": "code",
   "execution_count": null,
   "id": "84f7ac74",
   "metadata": {},
   "outputs": [
    {
     "name": "stdout",
     "output_type": "stream",
     "text": [
      "IPython autoawait is `on`, and set to use `asyncio`\n"
     ]
    }
   ],
   "source": [
    "%autoawait\n"
   ]
  },
  {
   "cell_type": "code",
   "execution_count": null,
   "id": "3283a366",
   "metadata": {},
   "outputs": [],
   "source": [
    "from astrapy import DataAPIClient\n",
    "from astrapy.constants import VectorMetric\n",
    "from astrapy.ids import UUID\n",
    "from astrapy.info import CollectionDefinition\n",
    "import json\n",
    "import os\n",
    "from typing import Any, Dict, Union, List\n",
    "import traceback\n",
    "\n",
    "from dotenv import load_dotenv\n"
   ]
  },
  {
   "cell_type": "code",
   "execution_count": null,
   "id": "383b7fb6",
   "metadata": {},
   "outputs": [],
   "source": [
    "# Constants\n",
    "load_dotenv()\n",
    "\n",
    "ASTRA_DB_TOKEN = os.getenv(\"ASTRA_DB_TOKEN\")\n",
    "ASTRA_DB_ENDPOINT = os.getenv(\"ASTRA_DB_API_ENDPOINT\") \n",
    "ASTRA_DB_KEYSPACE = os.getenv(\"ASTRA_DB_KEYSPACE\", \"langflow\")\n",
    "ASTRA_DB_COLLECTION = os.getenv(\"ASTRA_DB_COLLECTION\", \"langflow_docs\")\n",
    "VECTOR_DIMENSION = int(os.getenv(\"VECTOR_DIMENSION\", \"768\"))\n",
    "EMBEDDING_KEY = os.getenv(\"EMBEDDING_KEY\", \"embedding\")\n",
    "OPENAI_API_KEY = os.getenv(\"OPENAI_API_KEY\")    \n"
   ]
  },
  {
   "cell_type": "code",
   "execution_count": null,
   "id": "25c9eef2",
   "metadata": {},
   "outputs": [],
   "source": [
    "# Connect and create the Database object\n",
    "my_client = DataAPIClient()\n",
    "my_database = my_client.get_database(\n",
    "    ASTRA_DB_ENDPOINT,\n",
    "    token=ASTRA_DB_TOKEN,\n",
    "    keyspace=ASTRA_DB_KEYSPACE,\n",
    ")\n",
    "\n",
    "# Create a vector collection\n",
    "my_collection = my_database.create_collection(\n",
    "    \"dreams_collection\",\n",
    "    definition=(\n",
    "        CollectionDefinition.builder()\n",
    "        .set_vector_dimension(3)\n",
    "        .set_vector_metric(VectorMetric.COSINE)\n",
    "        .build()\n",
    "    )\n",
    ")\n"
   ]
  },
  {
   "cell_type": "code",
   "execution_count": null,
   "id": "00f23695",
   "metadata": {},
   "outputs": [],
   "source": [
    "\n",
    "# Populate the collection with some documents\n",
    "my_collection.insert_many(\n",
    "    [\n",
    "        {\n",
    "            \"_id\": UUID(\"018e65c9-e33d-749b-9386-e848739582f0\"),\n",
    "            \"summary\": \"Riding the waves\",\n",
    "            \"tags\": [\"sport\"],\n",
    "            \"$vector\": [0, 0.2, 1],\n",
    "        },\n",
    "        {\n",
    "            \"summary\": \"Friendly aliens in town\",\n",
    "            \"tags\": [\"scifi\"],\n",
    "            \"$vector\": [-0.3, 0, 0.8],\n",
    "        },\n",
    "        {\n",
    "            \"summary\": \"Meeting Beethoven at the dentist\",\n",
    "            \"$vector\": [0.2, 0.6, 0],\n",
    "        },\n",
    "    ],\n",
    ")\n"
   ]
  },
  {
   "cell_type": "code",
   "execution_count": null,
   "id": "ef75de6f",
   "metadata": {},
   "outputs": [],
   "source": [
    "\n",
    "my_collection.update_one(\n",
    "    {\"tags\": \"sport\"},\n",
    "    {\"$set\": {\"summary\": \"Surfers' paradise\"}},\n",
    ")\n"
   ]
  },
  {
   "cell_type": "code",
   "execution_count": null,
   "id": "58a91dd3",
   "metadata": {},
   "outputs": [],
   "source": [
    "\n",
    "# Run a vector search\n",
    "cursor = my_collection.find(\n",
    "    {},\n",
    "    sort={\"$vector\": [0, 0.2, 0.4]},\n",
    "    limit=2,\n",
    "    include_similarity=True,\n",
    ")\n",
    "\n",
    "for result in cursor:\n",
    "    print(f\"{result['summary']}: {result['$similarity']}\")\n",
    "\n",
    "# This would print:\n",
    "#   Surfers' paradise: 0.98238194\n",
    "#   Friendly aliens in town: 0.91873914\n",
    "\n"
   ]
  },
  {
   "cell_type": "code",
   "execution_count": null,
   "id": "b4b5125f",
   "metadata": {},
   "outputs": [],
   "source": [
    "# Connect and create the Database object\n",
    "client = DataAPIClient()\n",
    "database = client.get_database(\n",
    "    ASTRA_DB_ENDPOINT,\n",
    "    token=ASTRA_DB_TOKEN,\n",
    "    keyspace=ASTRA_DB_KEYSPACE,\n",
    ")\n",
    "docs = database.get_collection(\"langflow_docs\")\n",
    "components = database.get_collection(\"langflow_components\")\n",
    "samples = database.get_collection(\"sample_cde\")\n",
    "\n"
   ]
  },
  {
   "cell_type": "code",
   "execution_count": null,
   "id": "e4225ea5",
   "metadata": {},
   "outputs": [
    {
     "ename": "ModuleNotFoundError",
     "evalue": "No module named 'graphrag_agent'",
     "output_type": "error",
     "traceback": [
      "\u001b[31m---------------------------------------------------------------------------\u001b[39m",
      "\u001b[31mModuleNotFoundError\u001b[39m                       Traceback (most recent call last)",
      "\u001b[36mCell\u001b[39m\u001b[36m \u001b[39m\u001b[32mIn[7]\u001b[39m\u001b[32m, line 10\u001b[39m\n\u001b[32m      7\u001b[39m \u001b[38;5;28;01mif\u001b[39;00m src_path \u001b[38;5;129;01mnot\u001b[39;00m \u001b[38;5;129;01min\u001b[39;00m sys.path:\n\u001b[32m      8\u001b[39m \tsys.path.append(src_path)\n\u001b[32m---> \u001b[39m\u001b[32m10\u001b[39m \u001b[38;5;28;01mfrom\u001b[39;00m\u001b[38;5;250m \u001b[39m\u001b[34;01mgraphrag_agent\u001b[39;00m\u001b[34;01m.\u001b[39;00m\u001b[34;01mtools\u001b[39;00m\u001b[34;01m.\u001b[39;00m\u001b[34;01mdocument_embedding\u001b[39;00m\u001b[38;5;250m \u001b[39m\u001b[38;5;28;01mimport\u001b[39;00m OpenAIEmbeddingGenerator\n\u001b[32m     12\u001b[39m \u001b[38;5;66;03m# Initialize the embedding generator\u001b[39;00m\n\u001b[32m     13\u001b[39m embedding_generator = OpenAIEmbeddingGenerator(api_key=OPENAI_API_KEY)\n",
      "\u001b[31mModuleNotFoundError\u001b[39m: No module named 'graphrag_agent'"
     ]
    }
   ],
   "source": [
    "import sys\n",
    "import os\n",
    "\n",
    "# Dynamically add the src folder to the Python path\n",
    "notebook_dir = os.getcwd()  # Get the current working directory of the notebook\n",
    "src_path = os.path.join(notebook_dir, \"src\")\n",
    "if src_path not in sys.path:\n",
    "\tsys.path.append(src_path)\n",
    "\n",
    "from graphrag_agent.tools.document_embedding import OpenAIEmbeddingGenerator\n",
    "\n",
    "# Initialize the embedding generator\n",
    "embedding_generator = OpenAIEmbeddingGenerator(api_key=OPENAI_API_KEY)\n",
    "\n",
    "# Generate embedding for the given text\n",
    "embedding = embedding_generator._generate_embedding(\"This is a test document\")\n",
    "\n",
    "# Print the first 5 elements of the embedding\n",
    "print(embedding[:5])\n"
   ]
  },
  {
   "cell_type": "code",
   "execution_count": null,
   "id": "74ac8952",
   "metadata": {},
   "outputs": [],
   "source": [
    "from itertools import combinations\n",
    "all_collections = {\n",
    "    \"docs\": docs_content,\n",
    "    \"components\": components_content,\n",
    "    \"samples\": samples_content,\n",
    "}\n"
   ]
  },
  {
   "cell_type": "code",
   "execution_count": null,
   "id": "c4c5cb99",
   "metadata": {},
   "outputs": [],
   "source": [
    "import openai\n",
    "\n",
    "def get_embedding(text: str, model: str = \"text-embedding-ada-002\") -> List[float]:\n",
    "    \"\"\"\n",
    "    Generate an embedding for the given text using OpenAI's API.\n",
    "\n",
    "    Args:\n",
    "        text (str): The input text to generate the embedding for.\n",
    "        model (str): The OpenAI model to use for generating the embedding.\n",
    "\n",
    "    Returns:\n",
    "        List[float]: The embedding vector for the input text.\n",
    "    \"\"\"\n",
    "    openai.api_key = OPENAI_API_KEY\n",
    "    response = openai.Embedding.create(\n",
    "        input=text,\n",
    "        model=model\n",
    "    )\n",
    "    return response['data'][0]['embedding']\n"
   ]
  },
  {
   "cell_type": "code",
   "execution_count": null,
   "id": "74dab0b9",
   "metadata": {},
   "outputs": [],
   "source": [
    "from itertools import combinations\n",
    "import openai\n",
    "\n",
    "# Function to retrieve content from a collection\n",
    "def retrieve_content(collection, query_filter=None):\n",
    "    query_filter = query_filter or {}\n",
    "    results = collection.find(query_filter)\n",
    "    return [result.get(\"summary\", \"\") for result in results]\n",
    "\n",
    "# Retrieve content from the collections\n",
    "docs_content = retrieve_content(docs)\n",
    "components_content = retrieve_content(components)\n",
    "samples_content = retrieve_content(samples)\n",
    "\n",
    "# Combine content in different ways\n",
    "all_collections = {\n",
    "    \"docs\": docs_content,\n",
    "    \"components\": components_content,\n",
    "    \"samples\": samples_content,\n",
    "}\n",
    "\n",
    "# Generate combinations of collections\n",
    "combinations_list = []\n",
    "for r in range(1, len(all_collections) + 1):\n",
    "    combinations_list.extend(combinations(all_collections.keys(), r))\n",
    "\n",
    "# Function to generate a prompt\n",
    "def generate_prompt(selected_collections):\n",
    "    prompt_parts = []\n",
    "    for collection_name in selected_collections:\n",
    "        prompt_parts.extend(all_collections[collection_name])\n",
    "    return \"\\n\".join(prompt_parts)\n",
    "\n",
    "# Function to get a response from OpenAI API\n",
    "def get_openai_response(prompt):\n",
    "    openai.api_key = OPENAI_API_KEY\n",
    "    response = openai.Completion.create(\n",
    "        engine=\"text-davinci-003\",\n",
    "        prompt=prompt,\n",
    "        max_tokens=150,\n",
    "    )\n",
    "    return response.choices[0].text.strip()\n",
    "\n",
    "# Test different combinations\n",
    "results = {}\n",
    "for combination in combinations_list:\n",
    "    prompt = generate_prompt(combination)\n",
    "    print(f\"Testing combination: {combination}\")\n",
    "    response = get_openai_response(prompt)\n",
    "    results[combination] = response\n",
    "\n",
    "# Print results\n",
    "for combination, response in results.items():\n",
    "    print(f\"Combination: {combination}\\nResponse: {response}\\n\")\n"
   ]
  }
 ],
 "metadata": {
  "kernelspec": {
   "display_name": ".venv",
   "language": "python",
   "name": "python3"
  },
  "language_info": {
   "codemirror_mode": {
    "name": "ipython",
    "version": 3
   },
   "file_extension": ".py",
   "mimetype": "text/x-python",
   "name": "python",
   "nbconvert_exporter": "python",
   "pygments_lexer": "ipython3",
   "version": "3.12.9"
  }
 },
 "nbformat": 4,
 "nbformat_minor": 5
}
